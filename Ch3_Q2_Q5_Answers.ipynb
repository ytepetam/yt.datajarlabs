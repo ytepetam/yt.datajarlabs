{
 "cells": [
  {
   "cell_type": "markdown",
   "metadata": {},
   "source": [
    "2. Ayların kaç gün çektiğini karıştırabiliyoruz. \n",
    "Bunun için bir liste oluşturun ancak listenizde ay isimleri ve gün sayıları beraber bulunsun \n",
    "(ipucu: listenizin içinde başka bir veri yapısı yer alacak!)."
   ]
  },
  {
   "cell_type": "code",
   "execution_count": 1,
   "metadata": {},
   "outputs": [
    {
     "name": "stdout",
     "output_type": "stream",
     "text": [
      "[('Ocak', '31'), ('Şubat', '28'), ('Mart', '31'), ('Nisan', '30'), ('Mayıs', '31'), ('Haziran', '30'), ('Temmuz', '31'), ('Ağustos', '31'), ('Eylül', '30'), ('Ekim', '31'), ('Kasım', '30'), ('Aralık', '31')] \n",
      "\n"
     ]
    }
   ],
   "source": [
    "months = {'Ocak'   :\"31\", \n",
    "          'Şubat'  :\"28\",\n",
    "          'Mart'   :\"31\",\n",
    "          'Nisan'  :\"30\",\n",
    "          'Mayıs'  :\"31\",\n",
    "          'Haziran':\"30\",\n",
    "          'Temmuz' :\"31\",\n",
    "          'Ağustos':\"31\", \n",
    "          'Eylül'  :\"30\",\n",
    "          'Ekim'   :\"31\",\n",
    "          'Kasım'  :\"30\",\n",
    "          'Aralık' :\"31\"\n",
    "         }\n",
    "\n",
    "print(list(months.items()),'\\n')"
   ]
  },
  {
   "cell_type": "markdown",
   "metadata": {},
   "source": [
    "3. Bilgileri bir önceki listeden alan başka bir ay listesi oluşturun. \n",
    "Bu kez ayları günlerle birlikte listenin içinde iki ayrı listede tutun."
   ]
  },
  {
   "cell_type": "code",
   "execution_count": 2,
   "metadata": {},
   "outputs": [
    {
     "name": "stdout",
     "output_type": "stream",
     "text": [
      "['Ocak', 'Şubat', 'Mart', 'Nisan', 'Mayıs', 'Haziran', 'Temmuz', 'Ağustos', 'Eylül', 'Ekim', 'Kasım', 'Aralık', '31', '28', '31', '30', '31', '30', '31', '31', '30', '31', '30', '31'] \n",
      "\n"
     ]
    }
   ],
   "source": [
    "monthsDays = list(months.keys()) + list(months.values())\n",
    "print(monthsDays, '\\n')\n",
    "\n",
    "#print(list(months.keys()), '\\n')\n",
    "#print(list(months.values()),'\\n')"
   ]
  },
  {
   "cell_type": "markdown",
   "metadata": {},
   "source": [
    "4. Şimdi ise mevsim mevsim ayrılmış ay listeleri oluşturun. \n",
    "Liste adlarına mevsimlerin adlarını verin."
   ]
  },
  {
   "cell_type": "code",
   "execution_count": 3,
   "metadata": {},
   "outputs": [
    {
     "name": "stdout",
     "output_type": "stream",
     "text": [
      "[{'Mart': '31', 'Nisan': '30', 'Mayıs': '31'}, {'Haziran': '30', 'Temmuz': '31', 'Ağustos': '31'}, {'Eylül': '30', 'Ekim': '31', 'Kasım': '30'}, {'Ocak': '31', 'Şubat': '28', 'Aralık': '31'}] \n",
      "\n",
      "{'Haziran': '30', 'Temmuz': '31', 'Ağustos': '31'} \n",
      "\n"
     ]
    }
   ],
   "source": [
    "ilkbahar = { 'Mart' : \"31\", 'Nisan' : \"30\", 'Mayıs' : \"31\" }\n",
    "yaz      = {'Haziran': \"30\", 'Temmuz' : \"31\", 'Ağustos' : \"31\"}\n",
    "sonbahar = {'Eylül' : \"30\", 'Ekim' : \"31\", 'Kasım' : \"30\"}\n",
    "kış =      {'Ocak': \"31\", 'Şubat' : \"28\", 'Aralık' : \"31\"}\n",
    "\n",
    "mevsim_ayları = list([ilkbahar, yaz, sonbahar, kış])\n",
    "\n",
    "print(mevsim_ayları,'\\n')\n",
    "print(mevsim_ayları[1],'\\n')\n"
   ]
  },
  {
   "cell_type": "markdown",
   "metadata": {},
   "source": [
    "5. Son olarak, bir önceki sorudaki listeden yaz ayının kaç gün sürdüğünü hesaplayın."
   ]
  },
  {
   "cell_type": "code",
   "execution_count": 4,
   "metadata": {},
   "outputs": [
    {
     "name": "stdout",
     "output_type": "stream",
     "text": [
      "Yaz Ayları Toplam Gün Sayısı: 92\n"
     ]
    }
   ],
   "source": [
    "yazAylari = list(mevsim_ayları[1].values())\n",
    "print(\"Yaz Ayları Toplam Gün Sayısı: \" + \n",
    "      str(int(yazAylari[0])+int(yazAylari[1])+int(yazAylari[2]))\n",
    "     )"
   ]
  }
 ],
 "metadata": {
  "kernelspec": {
   "display_name": "Python 3",
   "language": "python",
   "name": "python3"
  },
  "language_info": {
   "codemirror_mode": {
    "name": "ipython",
    "version": 3
   },
   "file_extension": ".py",
   "mimetype": "text/x-python",
   "name": "python",
   "nbconvert_exporter": "python",
   "pygments_lexer": "ipython3",
   "version": "3.7.4"
  }
 },
 "nbformat": 4,
 "nbformat_minor": 2
}
