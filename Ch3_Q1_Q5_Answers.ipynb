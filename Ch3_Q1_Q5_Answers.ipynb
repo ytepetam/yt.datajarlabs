{
 "cells": [
  {
   "cell_type": "markdown",
   "metadata": {},
   "source": [
    "1. İçerisinde 7 günün bulunduğu bir sözlük oluşturun. \n",
    "Kullanıcıya günleri listeleyerek 2 farklı gün seçmesini isteyin (örneğin pazartesi ve salı için \"12\" gibi). \n",
    "Kullanıcının seçtiği günleri sözlükten silerek kalan 5 günü ekrana yazdırın."
   ]
  },
  {
   "cell_type": "code",
   "execution_count": null,
   "metadata": {},
   "outputs": [],
   "source": [
    "weekdays = {\n",
    "    \"1\" : \"Monday\",\n",
    "    \"2\" : \"Tuesday\",\n",
    "    \"3\" : \"Wednesday\",\n",
    "    \"4\" : \"Thursday\",\n",
    "    \"5\" : \"Friday\",\n",
    "    \"6\" : \"Saturday\",\n",
    "    \"7\" : \"Sunday\"\n",
    "}\n",
    "\n",
    "DayToRemove1 = input('Which day of the week you want to remove [1..7]:')\n",
    "DayToRemove2 = input('Which day of the week you want to remove [1..7]:')\n",
    "\n",
    "del weekdays[DayToRemove1]\n",
    "del weekdays[DayToRemove2]\n",
    "\n",
    "print(\"Remaining Week Days: \" + str(weekdays))"
   ]
  },
  {
   "cell_type": "markdown",
   "metadata": {},
   "source": [
    "2. Ayların kaç gün çektiğini karıştırabiliyoruz. \n",
    "Bunun için bir liste oluşturun ancak listenizde ay isimleri ve gün sayıları beraber bulunsun \n",
    "(ipucu: listenizin içinde başka bir veri yapısı yer alacak!)."
   ]
  },
  {
   "cell_type": "code",
   "execution_count": null,
   "metadata": {},
   "outputs": [],
   "source": [
    "months = {'Ocak'   :\"31\", \n",
    "          'Şubat'  :\"28\",\n",
    "          'Mart'   :\"31\",\n",
    "          'Nisan'  :\"30\",\n",
    "          'Mayıs'  :\"31\",\n",
    "          'Haziran':\"30\",\n",
    "          'Temmuz' :\"31\",\n",
    "          'Ağustos':\"31\", \n",
    "          'Eylül'  :\"30\",\n",
    "          'Ekim'   :\"31\",\n",
    "          'Kasım'  :\"30\",\n",
    "          'Aralık' :\"31\"\n",
    "         }\n",
    "\n",
    "print(list(months.items()),'\\n')"
   ]
  },
  {
   "cell_type": "markdown",
   "metadata": {},
   "source": [
    "3. Bilgileri bir önceki listeden alan başka bir ay listesi oluşturun. \n",
    "Bu kez ayları günlerle birlikte listenin içinde iki ayrı listede tutun."
   ]
  },
  {
   "cell_type": "code",
   "execution_count": null,
   "metadata": {},
   "outputs": [],
   "source": [
    "monthsDays = list(months.keys()) + list(months.values())\n",
    "print(monthsDays, '\\n')\n",
    "\n",
    "#print(list(months.keys()), '\\n')\n",
    "#print(list(months.values()),'\\n')"
   ]
  },
  {
   "cell_type": "markdown",
   "metadata": {},
   "source": [
    "4. Şimdi ise mevsim mevsim ayrılmış ay listeleri oluşturun. \n",
    "Liste adlarına mevsimlerin adlarını verin."
   ]
  },
  {
   "cell_type": "code",
   "execution_count": null,
   "metadata": {},
   "outputs": [],
   "source": [
    "ilkbahar = { 'Mart' : \"31\", 'Nisan' : \"30\", 'Mayıs' : \"31\" }\n",
    "yaz      = {'Haziran': \"30\", 'Temmuz' : \"31\", 'Ağustos' : \"31\"}\n",
    "sonbahar = {'Eylül' : \"30\", 'Ekim' : \"31\", 'Kasım' : \"30\"}\n",
    "kış =      {'Ocak': \"31\", 'Şubat' : \"28\", 'Aralık' : \"31\"}\n",
    "\n",
    "mevsim_ayları = list([ilkbahar, yaz, sonbahar, kış])\n",
    "\n",
    "print(mevsim_ayları,'\\n')\n",
    "print(mevsim_ayları[1],'\\n')\n"
   ]
  },
  {
   "cell_type": "markdown",
   "metadata": {},
   "source": [
    "5. Son olarak, bir önceki sorudaki listeden yaz ayının kaç gün sürdüğünü hesaplayın."
   ]
  },
  {
   "cell_type": "code",
   "execution_count": null,
   "metadata": {},
   "outputs": [],
   "source": [
    "yazAylari = list(mevsim_ayları[1].values())\n",
    "print(\"Yaz Ayları Toplam Gün Sayısı: \" + \n",
    "      str(int(yazAylari[0])+int(yazAylari[1])+int(yazAylari[2]))\n",
    "     )"
   ]
  }
 ],
 "metadata": {
  "kernelspec": {
   "display_name": "Python 3",
   "language": "python",
   "name": "python3"
  },
  "language_info": {
   "codemirror_mode": {
    "name": "ipython",
    "version": 3
   },
   "file_extension": ".py",
   "mimetype": "text/x-python",
   "name": "python",
   "nbconvert_exporter": "python",
   "pygments_lexer": "ipython3",
   "version": "3.7.4"
  }
 },
 "nbformat": 4,
 "nbformat_minor": 2
}
