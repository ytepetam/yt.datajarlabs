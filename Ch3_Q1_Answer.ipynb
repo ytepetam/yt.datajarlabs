{
 "cells": [
  {
   "cell_type": "raw",
   "metadata": {},
   "source": [
    "İçerisinde 7 günün bulunduğu bir sözlük oluşturun. \n",
    "Kullanıcıya günleri listeleyerek 2 farklı gün seçmesini isteyin (örneğin pazartesi ve salı için \"12\" gibi). \n",
    "Kullanıcının seçtiği günleri sözlükten silerek kalan 5 günü ekrana yazdırın."
   ]
  },
  {
   "cell_type": "code",
   "execution_count": null,
   "metadata": {},
   "outputs": [],
   "source": [
    "weekdays = {\n",
    "    \"1\" : \"Monday\",\n",
    "    \"2\" : \"Tuesday\",\n",
    "    \"3\" : \"Wednesday\",\n",
    "    \"4\" : \"Thursday\",\n",
    "    \"5\" : \"Friday\",\n",
    "    \"6\" : \"Saturday\",\n",
    "    \"7\" : \"Sunday\"\n",
    "}\n",
    "\n",
    "DayToRemove1 = input('Which day of the week you want to remove [1..7]:')\n",
    "DayToRemove2 = input('Which day of the week you want to remove [1..7]:')\n",
    "\n",
    "del weekdays[DayToRemove1]\n",
    "del weekdays[DayToRemove2]\n",
    "\n",
    "print(\"Remaining Week Days: \" + str(weekdays))"
   ]
  }
 ],
 "metadata": {
  "kernelspec": {
   "display_name": "Python 3",
   "language": "python",
   "name": "python3"
  },
  "language_info": {
   "codemirror_mode": {
    "name": "ipython",
    "version": 3
   },
   "file_extension": ".py",
   "mimetype": "text/x-python",
   "name": "python",
   "nbconvert_exporter": "python",
   "pygments_lexer": "ipython3",
   "version": "3.7.4"
  }
 },
 "nbformat": 4,
 "nbformat_minor": 2
}
