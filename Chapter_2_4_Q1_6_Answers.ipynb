{
 "cells": [
  {
   "cell_type": "markdown",
   "metadata": {},
   "source": [
    "1. Kullanıcıdan Santigrat ya da Fahrenheit olarak sıcaklık değerini alacak ve diğer sıcaklık birimine çevirecek bir kod yazın. Dönüşüm için C = (5/9) * (F - 32) formülünü kullanabilirsiniz.\n",
    "\n",
    "Örnek : \"40C\" --> \"104F\"\n",
    "        \"52F\" --> \"11.1\""
   ]
  },
  {
   "cell_type": "code",
   "execution_count": null,
   "metadata": {},
   "outputs": [],
   "source": [
    "Fahrenheit = int(input('Enter temperature as Fahrenheit:'))\n",
    "print(str(Fahrenheit) + \" is \"  + str(((5/9)*(Fahrenheit-32)))+ \" Celcius.\")\n",
    "\n",
    "Celcius = int(input('Enter temperature as Celcius:'))\n",
    "print(str(Celcius) + \" is \"  + str(((Celcius * 1.8) + 32)) + \" Fahrenheit.\") #(C * 1.8) + 32 = F #Fahrenheit Formula"
   ]
  },
  {
   "cell_type": "markdown",
   "metadata": {},
   "source": [
    "2. Kullanıcının girdiği kelimeyi ters çeviren bir kod yazınız.\n",
    "Örnek : \"otobüs\" --> \"süboto"
   ]
  },
  {
   "cell_type": "code",
   "execution_count": null,
   "metadata": {},
   "outputs": [],
   "source": [
    "word = input(\"Enter a word and I will reverse it: \")\n",
    "\n",
    "txt = word [::-1]\n",
    "print(txt)"
   ]
  },
  {
   "cell_type": "markdown",
   "metadata": {},
   "source": [
    "3. 1'den 50'ye kadar olan Fibonacci sayılarından oluşan bir liste oluşturun. \n",
    "İlk iki Fibonacci sayısı 1'dir. Sonraki sayılar, önceki iki sayının toplamıdır."
   ]
  },
  {
   "cell_type": "code",
   "execution_count": null,
   "metadata": {},
   "outputs": [],
   "source": [
    "print(\"Fibonacci sequence upto 50: \")\n",
    "n1, n2, n3 = 1, 1, 0\n",
    "print(n1)\n",
    "print(n2)\n",
    "\n",
    "while n3 < 50:\n",
    "    n3 = n1 + n2\n",
    "    if(n3<50) : print(n3)\n",
    "\n",
    "    # update values\n",
    "    n1 = n2\n",
    "    n2 = n3"
   ]
  },
  {
   "cell_type": "markdown",
   "metadata": {},
   "source": [
    "4. Girilen bir sayı için çarpım tablosunu yazdırın."
   ]
  },
  {
   "cell_type": "code",
   "execution_count": null,
   "metadata": {},
   "outputs": [],
   "source": [
    "l=[]\n",
    "\n",
    "i = int(input('Enter a number for multiplication table: '))\n",
    "j = int(input('Enter the limit: '))\n",
    "\n",
    "for j in range(1, j+1):\n",
    "    l.append(i*j)\n",
    "    \n",
    "print (*l)"
   ]
  },
  {
   "cell_type": "markdown",
   "metadata": {},
   "source": [
    "5. List comprehension kullanarak, 1'den 20'ye kadar tek sayıların karesini, çift sayıların küpünü içeren bir liste oluşturun."
   ]
  },
  {
   "cell_type": "code",
   "execution_count": 8,
   "metadata": {},
   "outputs": [
    {
     "name": "stdout",
     "output_type": "stream",
     "text": [
      "[1, 8, 9, 64, 25, 216, 49, 512, 81, 1000, 121, 1728, 169, 2744, 225, 4096, 289, 5832, 361, 8000]\n"
     ]
    }
   ],
   "source": [
    "l1 = [x**3 if x % 2 == 0 else x**2 for x in range(1,21)]\n",
    "print(l1)"
   ]
  }
 ],
 "metadata": {
  "kernelspec": {
   "display_name": "Python 3",
   "language": "python",
   "name": "python3"
  },
  "language_info": {
   "codemirror_mode": {
    "name": "ipython",
    "version": 3
   },
   "file_extension": ".py",
   "mimetype": "text/x-python",
   "name": "python",
   "nbconvert_exporter": "python",
   "pygments_lexer": "ipython3",
   "version": "3.7.4"
  }
 },
 "nbformat": 4,
 "nbformat_minor": 2
}
